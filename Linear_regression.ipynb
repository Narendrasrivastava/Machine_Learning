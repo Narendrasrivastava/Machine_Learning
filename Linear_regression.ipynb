{
 "cells": [
  {
   "cell_type": "code",
   "execution_count": 145,
   "id": "a0a2a0fd",
   "metadata": {},
   "outputs": [],
   "source": [
    "import numpy as np\n",
    "import pandas as pd\n",
    "import matplotlib.pyplot as plt\n",
    "import pandas as pd"
   ]
  },
  {
   "cell_type": "code",
   "execution_count": 146,
   "id": "83c4788b",
   "metadata": {},
   "outputs": [],
   "source": [
    "from sklearn.datasets import fetch_california_housing\n",
    "\n",
    "california_housing = fetch_california_housing(as_frame=True)"
   ]
  },
  {
   "cell_type": "code",
   "execution_count": 147,
   "id": "2f354cd7",
   "metadata": {},
   "outputs": [
    {
     "data": {
      "text/plain": [
       "{'data':        MedInc  HouseAge  AveRooms  AveBedrms  Population  AveOccup  Latitude  \\\n",
       " 0      8.3252      41.0  6.984127   1.023810       322.0  2.555556     37.88   \n",
       " 1      8.3014      21.0  6.238137   0.971880      2401.0  2.109842     37.86   \n",
       " 2      7.2574      52.0  8.288136   1.073446       496.0  2.802260     37.85   \n",
       " 3      5.6431      52.0  5.817352   1.073059       558.0  2.547945     37.85   \n",
       " 4      3.8462      52.0  6.281853   1.081081       565.0  2.181467     37.85   \n",
       " ...       ...       ...       ...        ...         ...       ...       ...   \n",
       " 20635  1.5603      25.0  5.045455   1.133333       845.0  2.560606     39.48   \n",
       " 20636  2.5568      18.0  6.114035   1.315789       356.0  3.122807     39.49   \n",
       " 20637  1.7000      17.0  5.205543   1.120092      1007.0  2.325635     39.43   \n",
       " 20638  1.8672      18.0  5.329513   1.171920       741.0  2.123209     39.43   \n",
       " 20639  2.3886      16.0  5.254717   1.162264      1387.0  2.616981     39.37   \n",
       " \n",
       "        Longitude  \n",
       " 0        -122.23  \n",
       " 1        -122.22  \n",
       " 2        -122.24  \n",
       " 3        -122.25  \n",
       " 4        -122.25  \n",
       " ...          ...  \n",
       " 20635    -121.09  \n",
       " 20636    -121.21  \n",
       " 20637    -121.22  \n",
       " 20638    -121.32  \n",
       " 20639    -121.24  \n",
       " \n",
       " [20640 rows x 8 columns],\n",
       " 'target': 0        4.526\n",
       " 1        3.585\n",
       " 2        3.521\n",
       " 3        3.413\n",
       " 4        3.422\n",
       "          ...  \n",
       " 20635    0.781\n",
       " 20636    0.771\n",
       " 20637    0.923\n",
       " 20638    0.847\n",
       " 20639    0.894\n",
       " Name: MedHouseVal, Length: 20640, dtype: float64,\n",
       " 'frame':        MedInc  HouseAge  AveRooms  AveBedrms  Population  AveOccup  Latitude  \\\n",
       " 0      8.3252      41.0  6.984127   1.023810       322.0  2.555556     37.88   \n",
       " 1      8.3014      21.0  6.238137   0.971880      2401.0  2.109842     37.86   \n",
       " 2      7.2574      52.0  8.288136   1.073446       496.0  2.802260     37.85   \n",
       " 3      5.6431      52.0  5.817352   1.073059       558.0  2.547945     37.85   \n",
       " 4      3.8462      52.0  6.281853   1.081081       565.0  2.181467     37.85   \n",
       " ...       ...       ...       ...        ...         ...       ...       ...   \n",
       " 20635  1.5603      25.0  5.045455   1.133333       845.0  2.560606     39.48   \n",
       " 20636  2.5568      18.0  6.114035   1.315789       356.0  3.122807     39.49   \n",
       " 20637  1.7000      17.0  5.205543   1.120092      1007.0  2.325635     39.43   \n",
       " 20638  1.8672      18.0  5.329513   1.171920       741.0  2.123209     39.43   \n",
       " 20639  2.3886      16.0  5.254717   1.162264      1387.0  2.616981     39.37   \n",
       " \n",
       "        Longitude  MedHouseVal  \n",
       " 0        -122.23        4.526  \n",
       " 1        -122.22        3.585  \n",
       " 2        -122.24        3.521  \n",
       " 3        -122.25        3.413  \n",
       " 4        -122.25        3.422  \n",
       " ...          ...          ...  \n",
       " 20635    -121.09        0.781  \n",
       " 20636    -121.21        0.771  \n",
       " 20637    -121.22        0.923  \n",
       " 20638    -121.32        0.847  \n",
       " 20639    -121.24        0.894  \n",
       " \n",
       " [20640 rows x 9 columns],\n",
       " 'target_names': ['MedHouseVal'],\n",
       " 'feature_names': ['MedInc',\n",
       "  'HouseAge',\n",
       "  'AveRooms',\n",
       "  'AveBedrms',\n",
       "  'Population',\n",
       "  'AveOccup',\n",
       "  'Latitude',\n",
       "  'Longitude'],\n",
       " 'DESCR': '.. _california_housing_dataset:\\n\\nCalifornia Housing dataset\\n--------------------------\\n\\n**Data Set Characteristics:**\\n\\n    :Number of Instances: 20640\\n\\n    :Number of Attributes: 8 numeric, predictive attributes and the target\\n\\n    :Attribute Information:\\n        - MedInc        median income in block group\\n        - HouseAge      median house age in block group\\n        - AveRooms      average number of rooms per household\\n        - AveBedrms     average number of bedrooms per household\\n        - Population    block group population\\n        - AveOccup      average number of household members\\n        - Latitude      block group latitude\\n        - Longitude     block group longitude\\n\\n    :Missing Attribute Values: None\\n\\nThis dataset was obtained from the StatLib repository.\\nhttps://www.dcc.fc.up.pt/~ltorgo/Regression/cal_housing.html\\n\\nThe target variable is the median house value for California districts,\\nexpressed in hundreds of thousands of dollars ($100,000).\\n\\nThis dataset was derived from the 1990 U.S. census, using one row per census\\nblock group. A block group is the smallest geographical unit for which the U.S.\\nCensus Bureau publishes sample data (a block group typically has a population\\nof 600 to 3,000 people).\\n\\nAn household is a group of people residing within a home. Since the average\\nnumber of rooms and bedrooms in this dataset are provided per household, these\\ncolumns may take surpinsingly large values for block groups with few households\\nand many empty houses, such as vacation resorts.\\n\\nIt can be downloaded/loaded using the\\n:func:`sklearn.datasets.fetch_california_housing` function.\\n\\n.. topic:: References\\n\\n    - Pace, R. Kelley and Ronald Barry, Sparse Spatial Autoregressions,\\n      Statistics and Probability Letters, 33 (1997) 291-297\\n'}"
      ]
     },
     "execution_count": 147,
     "metadata": {},
     "output_type": "execute_result"
    }
   ],
   "source": [
    "california_housing"
   ]
  },
  {
   "cell_type": "code",
   "execution_count": 148,
   "id": "c6cef6dd",
   "metadata": {},
   "outputs": [
    {
     "data": {
      "text/html": [
       "<div>\n",
       "<style scoped>\n",
       "    .dataframe tbody tr th:only-of-type {\n",
       "        vertical-align: middle;\n",
       "    }\n",
       "\n",
       "    .dataframe tbody tr th {\n",
       "        vertical-align: top;\n",
       "    }\n",
       "\n",
       "    .dataframe thead th {\n",
       "        text-align: right;\n",
       "    }\n",
       "</style>\n",
       "<table border=\"1\" class=\"dataframe\">\n",
       "  <thead>\n",
       "    <tr style=\"text-align: right;\">\n",
       "      <th></th>\n",
       "      <th>MedInc</th>\n",
       "      <th>HouseAge</th>\n",
       "      <th>AveRooms</th>\n",
       "      <th>AveBedrms</th>\n",
       "      <th>Population</th>\n",
       "      <th>AveOccup</th>\n",
       "      <th>Latitude</th>\n",
       "      <th>Longitude</th>\n",
       "    </tr>\n",
       "  </thead>\n",
       "  <tbody>\n",
       "    <tr>\n",
       "      <th>0</th>\n",
       "      <td>8.3252</td>\n",
       "      <td>41.0</td>\n",
       "      <td>6.984127</td>\n",
       "      <td>1.023810</td>\n",
       "      <td>322.0</td>\n",
       "      <td>2.555556</td>\n",
       "      <td>37.88</td>\n",
       "      <td>-122.23</td>\n",
       "    </tr>\n",
       "    <tr>\n",
       "      <th>1</th>\n",
       "      <td>8.3014</td>\n",
       "      <td>21.0</td>\n",
       "      <td>6.238137</td>\n",
       "      <td>0.971880</td>\n",
       "      <td>2401.0</td>\n",
       "      <td>2.109842</td>\n",
       "      <td>37.86</td>\n",
       "      <td>-122.22</td>\n",
       "    </tr>\n",
       "    <tr>\n",
       "      <th>2</th>\n",
       "      <td>7.2574</td>\n",
       "      <td>52.0</td>\n",
       "      <td>8.288136</td>\n",
       "      <td>1.073446</td>\n",
       "      <td>496.0</td>\n",
       "      <td>2.802260</td>\n",
       "      <td>37.85</td>\n",
       "      <td>-122.24</td>\n",
       "    </tr>\n",
       "    <tr>\n",
       "      <th>3</th>\n",
       "      <td>5.6431</td>\n",
       "      <td>52.0</td>\n",
       "      <td>5.817352</td>\n",
       "      <td>1.073059</td>\n",
       "      <td>558.0</td>\n",
       "      <td>2.547945</td>\n",
       "      <td>37.85</td>\n",
       "      <td>-122.25</td>\n",
       "    </tr>\n",
       "    <tr>\n",
       "      <th>4</th>\n",
       "      <td>3.8462</td>\n",
       "      <td>52.0</td>\n",
       "      <td>6.281853</td>\n",
       "      <td>1.081081</td>\n",
       "      <td>565.0</td>\n",
       "      <td>2.181467</td>\n",
       "      <td>37.85</td>\n",
       "      <td>-122.25</td>\n",
       "    </tr>\n",
       "  </tbody>\n",
       "</table>\n",
       "</div>"
      ],
      "text/plain": [
       "   MedInc  HouseAge  AveRooms  AveBedrms  Population  AveOccup  Latitude  \\\n",
       "0  8.3252      41.0  6.984127   1.023810       322.0  2.555556     37.88   \n",
       "1  8.3014      21.0  6.238137   0.971880      2401.0  2.109842     37.86   \n",
       "2  7.2574      52.0  8.288136   1.073446       496.0  2.802260     37.85   \n",
       "3  5.6431      52.0  5.817352   1.073059       558.0  2.547945     37.85   \n",
       "4  3.8462      52.0  6.281853   1.081081       565.0  2.181467     37.85   \n",
       "\n",
       "   Longitude  \n",
       "0    -122.23  \n",
       "1    -122.22  \n",
       "2    -122.24  \n",
       "3    -122.25  \n",
       "4    -122.25  "
      ]
     },
     "execution_count": 148,
     "metadata": {},
     "output_type": "execute_result"
    }
   ],
   "source": [
    "X = pd.DataFrame(california_housing.data)\n",
    "X.head()"
   ]
  },
  {
   "cell_type": "code",
   "execution_count": 149,
   "id": "8c5129ae",
   "metadata": {},
   "outputs": [
    {
     "data": {
      "text/plain": [
       "array([4.526, 3.585, 3.521, ..., 0.923, 0.847, 0.894])"
      ]
     },
     "execution_count": 149,
     "metadata": {},
     "output_type": "execute_result"
    }
   ],
   "source": [
    "y = california_housing.target\n",
    "np.array(y)"
   ]
  },
  {
   "cell_type": "code",
   "execution_count": 150,
   "id": "a70016ce",
   "metadata": {},
   "outputs": [],
   "source": [
    "from sklearn.model_selection import train_test_split\n",
    "X_train, X_test, y_train, y_test = train_test_split(X, y, test_size=0.30, random_state=42)"
   ]
  },
  {
   "cell_type": "code",
   "execution_count": 151,
   "id": "1ca07627",
   "metadata": {},
   "outputs": [],
   "source": [
    "from sklearn.preprocessing import StandardScaler\n",
    "scaler = StandardScaler()"
   ]
  },
  {
   "cell_type": "code",
   "execution_count": 152,
   "id": "15b57448",
   "metadata": {},
   "outputs": [],
   "source": [
    "X_train = scaler.fit_transform(X_train)"
   ]
  },
  {
   "cell_type": "code",
   "execution_count": 153,
   "id": "a08dc50c",
   "metadata": {},
   "outputs": [],
   "source": [
    "X_test = scaler.transform(X_test)"
   ]
  },
  {
   "cell_type": "code",
   "execution_count": 154,
   "id": "e104b6d9",
   "metadata": {},
   "outputs": [],
   "source": [
    "from sklearn.linear_model import LinearRegression\n",
    "reg = LinearRegression().fit(X_train, y_train)"
   ]
  },
  {
   "cell_type": "code",
   "execution_count": 155,
   "id": "b92f73b9",
   "metadata": {},
   "outputs": [],
   "source": [
    "reg_pred = reg.predict(X_test)"
   ]
  },
  {
   "cell_type": "code",
   "execution_count": 156,
   "id": "cc0f8cc0",
   "metadata": {},
   "outputs": [
    {
     "data": {
      "text/plain": [
       "<seaborn.axisgrid.FacetGrid at 0x25e72e54be0>"
      ]
     },
     "execution_count": 156,
     "metadata": {},
     "output_type": "execute_result"
    },
    {
     "data": {
      "image/png": "[encoded data removed]",
      "text/plain": [
       "<Figure size 500x500 with 1 Axes>"
      ]
     },
     "metadata": {},
     "output_type": "display_data"
    }
   ],
   "source": [
    "sns.displot(reg_pred-y_test,kind='kde')"
   ]
  },
  {
   "cell_type": "code",
   "execution_count": 157,
   "id": "edd9498a",
   "metadata": {},
   "outputs": [],
   "source": [
    "from sklearn.metrics import r2_score"
   ]
  },
  {
   "cell_type": "code",
   "execution_count": 160,
   "id": "fab859e9",
   "metadata": {},
   "outputs": [
    {
     "data": {
      "text/plain": [
       "0.34513393809439674"
      ]
     },
     "execution_count": 160,
     "metadata": {},
     "output_type": "execute_result"
    }
   ],
   "source": [
    "from sklearn.metrics import r2_score\n",
    "score= r2_score(reg_pred,y_test)\n",
    "score"
   ]
  },
  {
   "cell_type": "code",
   "execution_count": 161,
   "id": "ea64728d",
   "metadata": {},
   "outputs": [
    {
     "data": {
      "text/plain": [
       "0.5305677824766754"
      ]
     },
     "execution_count": 161,
     "metadata": {},
     "output_type": "execute_result"
    }
   ],
   "source": [
    "from sklearn.metrics import mean_squared_error\n",
    "mean_squared_error(y_test, reg_pred)"
   ]
  },
  {
   "cell_type": "code",
   "execution_count": 167,
   "id": "e7e46776",
   "metadata": {},
   "outputs": [
    {
     "name": "stdout",
     "output_type": "stream",
     "text": [
      "-0.5257104326777\n"
     ]
    }
   ],
   "source": [
    "from sklearn.model_selection import cross_val_score\n",
    "mse = cross_val_score(reg,X_train,y_train,scoring= 'neg_mean_squared_error',cv=10)\n",
    "\n",
    "print(np.mean(mse))"
   ]
  }
 ],
 "metadata": {
  "kernelspec": {
   "display_name": "Python 3 (ipykernel)",
   "language": "python",
   "name": "python3"
  },
  "language_info": {
   "codemirror_mode": {
    "name": "ipython",
    "version": 3
   },
   "file_extension": ".py",
   "mimetype": "text/x-python",
   "name": "python",
   "nbconvert_exporter": "python",
   "pygments_lexer": "ipython3",
   "version": "3.10.9"
  }
 },
 "nbformat": 4,
 "nbformat_minor": 5
}
